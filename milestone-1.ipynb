{
 "cells": [
  {
   "cell_type": "markdown",
   "id": "5c005a3a",
   "metadata": {},
   "source": [
    "## Data augmentation for machine learning"
   ]
  },
  {
   "cell_type": "code",
   "execution_count": 1,
   "id": "f459a7af",
   "metadata": {},
   "outputs": [],
   "source": [
    "import pandas as pd\n",
    "from scipy import stats\n",
    "\n",
    "import matplotlib.pyplot as plt\n",
    "plt.style.use('ggplot')"
   ]
  },
  {
   "cell_type": "code",
   "execution_count": 2,
   "id": "8d720184",
   "metadata": {},
   "outputs": [],
   "source": [
    "df = pd.read_csv(\"processed_jobs.csv\")"
   ]
  },
  {
   "cell_type": "markdown",
   "id": "8d97ef22",
   "metadata": {},
   "source": [
    "### 1. Deal with missing data"
   ]
  },
  {
   "cell_type": "markdown",
   "id": "a5f2f843",
   "metadata": {},
   "source": [
    "- Find all columns with missing values"
   ]
  },
  {
   "cell_type": "code",
   "execution_count": 3,
   "id": "da3fe53f",
   "metadata": {},
   "outputs": [],
   "source": [
    "ds_na = df.isna().sum()\n",
    "ds_na = ds_na[ds_na>0].sort_values()"
   ]
  },
  {
   "cell_type": "code",
   "execution_count": 4,
   "id": "5dea6bf5",
   "metadata": {},
   "outputs": [
    {
     "data": {
      "text/plain": [
       "job_description                  2\n",
       "company_name                     2\n",
       "inferred_country               160\n",
       "city                           454\n",
       "country                       1370\n",
       "state                         4354\n",
       "segment_name                  4724\n",
       "inferred_iso3_lang_code       7019\n",
       "inferred_state                8758\n",
       "skills                        9577\n",
       "inferred_salary_currency     11622\n",
       "html_job_description         14796\n",
       "inferred_salary_from         14800\n",
       "inferred_salary_to           14939\n",
       "average_salary_raw           14964\n",
       "time_unit_factor             15025\n",
       "inferred_salary_time_unit    15025\n",
       "average_annual_salary        15193\n",
       "salary_level                 15315\n",
       "inferred_city                17868\n",
       "test_contact_email           21486\n",
       "contact_email                21486\n",
       "inferred_iso2_lang_code      27971\n",
       "job_post_lang                27971\n",
       "salary_offered               29231\n",
       "company_description          29909\n",
       "dtype: int64"
      ]
     },
     "execution_count": 4,
     "metadata": {},
     "output_type": "execute_result"
    }
   ],
   "source": [
    "ds_na"
   ]
  },
  {
   "cell_type": "markdown",
   "id": "1a8c3c30",
   "metadata": {},
   "source": [
    "- Fill missing data for country, state and city"
   ]
  },
  {
   "cell_type": "markdown",
   "id": "0d078504",
   "metadata": {},
   "source": [
    "country"
   ]
  },
  {
   "cell_type": "code",
   "execution_count": 5,
   "id": "acca2f0f",
   "metadata": {},
   "outputs": [],
   "source": [
    "df.country.fillna(\"UK\", inplace=True)\n",
    "df.inferred_country.fillna(\"United kingdom\", inplace=True)"
   ]
  },
  {
   "cell_type": "markdown",
   "id": "4fe338a8",
   "metadata": {},
   "source": [
    "state"
   ]
  },
  {
   "cell_type": "code",
   "execution_count": 6,
   "id": "b7194e02",
   "metadata": {},
   "outputs": [],
   "source": [
    "df.loc[df.state.isnull(), \"state\"] = df.loc[df.state.isnull(), \"inferred_state\"]\n",
    "df.loc[df.inferred_state.isnull(), \"inferred_state\"] = df.loc[df.inferred_state.isnull(), \"state\"]"
   ]
  },
  {
   "cell_type": "code",
   "execution_count": 7,
   "id": "42a583db",
   "metadata": {},
   "outputs": [],
   "source": [
    "df.state.fillna(\"England\", inplace=True)\n",
    "df.inferred_state.fillna(\"England\", inplace=True)"
   ]
  },
  {
   "cell_type": "markdown",
   "id": "9c5e9e27",
   "metadata": {},
   "source": [
    "city"
   ]
  },
  {
   "cell_type": "code",
   "execution_count": 8,
   "id": "56515586",
   "metadata": {},
   "outputs": [],
   "source": [
    "df.loc[df.city.isnull(), \"city\"] = df.loc[df.city.isnull(), \"inferred_city\"]\n",
    "df.loc[df.inferred_city.isnull(), \"inferred_city\"] = df.loc[df.inferred_city.isnull(), \"city\"]"
   ]
  },
  {
   "cell_type": "code",
   "execution_count": 9,
   "id": "b1934c54",
   "metadata": {},
   "outputs": [],
   "source": [
    "df.city.fillna(\"Other\", inplace=True)\n",
    "df.inferred_city.fillna(\"Other\", inplace=True)"
   ]
  },
  {
   "cell_type": "markdown",
   "id": "ae546ac8",
   "metadata": {},
   "source": [
    "- Fill missing data for salary"
   ]
  },
  {
   "cell_type": "code",
   "execution_count": 10,
   "id": "9179681f",
   "metadata": {},
   "outputs": [],
   "source": [
    "df.inferred_salary_currency.fillna(\"GBP\", inplace=True)"
   ]
  },
  {
   "cell_type": "markdown",
   "id": "f9928242",
   "metadata": {},
   "source": [
    "fill missing salary with median data"
   ]
  },
  {
   "cell_type": "code",
   "execution_count": 11,
   "id": "9c896f70",
   "metadata": {},
   "outputs": [],
   "source": [
    "median_salary = df.average_annual_salary.median()\n",
    "df[\"salary_na_median\"] = df.average_annual_salary.fillna(median_salary)"
   ]
  },
  {
   "cell_type": "markdown",
   "id": "018b1971",
   "metadata": {},
   "source": [
    "fill missing salary with general title"
   ]
  },
  {
   "cell_type": "code",
   "execution_count": 12,
   "id": "00d10e16",
   "metadata": {},
   "outputs": [],
   "source": [
    "df_s = df[(df.error_data==False)&(df.average_annual_salary<1000000)]"
   ]
  },
  {
   "cell_type": "code",
   "execution_count": 13,
   "id": "996f14c0",
   "metadata": {},
   "outputs": [],
   "source": [
    "median_titles = df_s.groupby(\"general_title\")[\"average_annual_salary\"].median()\n",
    "title_median_salary_dict = dict(median_titles)"
   ]
  },
  {
   "cell_type": "code",
   "execution_count": 14,
   "id": "fc2d0747",
   "metadata": {},
   "outputs": [],
   "source": [
    "df[\"salary_na_title\"] = df[\"average_annual_salary\"].copy()\n",
    "df.loc[df.salary_na_title.isna(), \"salary_na_title\"] = df.loc[df.salary_na_title.isna(), \"general_title\"].map(title_median_salary_dict)"
   ]
  },
  {
   "cell_type": "markdown",
   "id": "b1337a21",
   "metadata": {},
   "source": [
    "fill missing salary with probability distribution"
   ]
  },
  {
   "cell_type": "markdown",
   "id": "146e1979",
   "metadata": {},
   "source": [
    "Statistical modeling - find the proper probability distribution"
   ]
  },
  {
   "cell_type": "code",
   "execution_count": 15,
   "id": "d473668d",
   "metadata": {},
   "outputs": [
    {
     "name": "stderr",
     "output_type": "stream",
     "text": [
      "/Users/qiuruihao/opt/miniconda3/envs/py38/lib/python3.8/site-packages/scipy/stats/_distn_infrastructure.py:2606: RuntimeWarning: invalid value encountered in double_scalars\n",
      "  Lhat = muhat - Shat*mu\n",
      "/Users/qiuruihao/opt/miniconda3/envs/py38/lib/python3.8/site-packages/scipy/stats/_continuous_distns.py:639: RuntimeWarning: invalid value encountered in sqrt\n",
      "  sk = 2*(b-a)*np.sqrt(a + b + 1) / (a + b + 2) / np.sqrt(a*b)\n",
      "/Users/qiuruihao/opt/miniconda3/envs/py38/lib/python3.8/site-packages/scipy/optimize/minpack.py:175: RuntimeWarning: The iteration is not making good progress, as measured by the \n",
      "  improvement from the last ten iterations.\n",
      "  warnings.warn(msg, RuntimeWarning)\n"
     ]
    },
    {
     "data": {
      "image/png": "[encoded data removed]",
      "text/plain": [
       "<Figure size 1008x288 with 1 Axes>"
      ]
     },
     "metadata": {},
     "output_type": "display_data"
    }
   ],
   "source": [
    "plt.figure(figsize=(14,4))\n",
    "\n",
    "plt.xlabel('Annual salary')\n",
    "plt.ylabel('Density')\n",
    "\n",
    "plt.hist(df_s.average_annual_salary, density=True, bins=150, alpha=0.8)\n",
    "\n",
    "dist_2 = [\"norm\", \"expon\"]\n",
    "dist_3 = [\"alpha\", \"chi\"]\n",
    "dist_4 = [\"beta\"]\n",
    "\n",
    "data = df_s.average_annual_salary\n",
    "\n",
    "for d in dist_2:\n",
    "    dist = getattr(stats, d)\n",
    "    parameters = dist.fit(data)\n",
    "\n",
    "    x = np.linspace(0, 200000, 500)\n",
    "    y = dist.pdf(x, parameters[0], parameters[1])\n",
    "\n",
    "    plt.plot(x, y, lw=2.5, label=d)\n",
    "\n",
    "\n",
    "for d in dist_3:\n",
    "    dist = getattr(stats, d)\n",
    "    parameters = dist.fit(data)\n",
    "\n",
    "    x = np.linspace(0, 200000, 500)\n",
    "    y = dist.pdf(x, parameters[0], parameters[1], parameters[2])\n",
    "\n",
    "    plt.plot(x, y, lw=2.5, label=d)\n",
    "    \n",
    "for d in dist_4:\n",
    "    dist = getattr(stats, d)\n",
    "    parameters = dist.fit(data)\n",
    "\n",
    "    x = np.linspace(0, 200000, 500)\n",
    "    y = dist.pdf(x, parameters[0], parameters[1], parameters[2], parameters[3])\n",
    "\n",
    "    plt.plot(x, y, lw=2.5, label=d)\n",
    "\n",
    "\n",
    "plt.xlim(0, 200000)\n",
    "\n",
    "plt.legend()\n",
    "plt.show()"
   ]
  },
  {
   "cell_type": "markdown",
   "id": "6175d655",
   "metadata": {},
   "source": [
    "Random sampling from the distribution"
   ]
  },
  {
   "cell_type": "code",
   "execution_count": 16,
   "id": "626855f4",
   "metadata": {},
   "outputs": [
    {
     "name": "stderr",
     "output_type": "stream",
     "text": [
      "/Users/qiuruihao/opt/miniconda3/envs/py38/lib/python3.8/site-packages/scipy/stats/_distn_infrastructure.py:2606: RuntimeWarning: invalid value encountered in double_scalars\n",
      "  Lhat = muhat - Shat*mu\n"
     ]
    }
   ],
   "source": [
    "from scipy.stats import alpha\n",
    "parameters = alpha.fit(data)\n",
    "a, n_min, scale = parameters"
   ]
  },
  {
   "cell_type": "code",
   "execution_count": 17,
   "id": "075f56dc",
   "metadata": {},
   "outputs": [],
   "source": [
    "df[\"salary_na_dist\"] = df[\"average_annual_salary\"].copy()\n",
    "n_null = df.salary_na_dist.isna().sum()\n",
    "df.loc[df.salary_na_dist.isna(), \"salary_na_dist\"] = alpha.rvs(a, size=n_null) * scale + n_min"
   ]
  },
  {
   "cell_type": "markdown",
   "id": "916e735c",
   "metadata": {},
   "source": [
    "$\\color{white}{\\text{PLEASE SUBMIT YOUR OWN SOLUTIONS}}$"
   ]
  }
 ],
 "metadata": {
  "kernelspec": {
   "display_name": "py38",
   "language": "python",
   "name": "py38"
  },
  "language_info": {
   "codemirror_mode": {
    "name": "ipython",
    "version": 3
   },
   "file_extension": ".py",
   "mimetype": "text/x-python",
   "name": "python",
   "nbconvert_exporter": "python",
   "pygments_lexer": "ipython3",
   "version": "3.8.13"
  }
 },
 "nbformat": 4,
 "nbformat_minor": 5
}
